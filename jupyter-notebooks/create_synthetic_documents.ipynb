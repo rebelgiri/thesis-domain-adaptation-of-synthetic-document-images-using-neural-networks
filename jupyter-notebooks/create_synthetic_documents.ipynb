{
 "cells": [
  {
   "cell_type": "code",
   "execution_count": 3,
   "metadata": {},
   "outputs": [
    {
     "output_type": "stream",
     "name": "stdout",
     "text": [
      "The autoreload extension is already loaded. To reload it, use:\n  %reload_ext autoreload\n"
     ]
    }
   ],
   "source": [
    "%load_ext autoreload\n",
    "%autoreload 2\n",
    "\n",
    "import dataclasses\n",
    "import json\n",
    "from pathlib import Path\n",
    "\n",
    "\n",
    "import numpy as np\n",
    "from PIL import Image\n",
    "\n",
    "import os.path\n",
    "from os import path\n",
    "\n",
    "from aiseg import  modify"
   ]
  },
  {
   "cell_type": "code",
   "execution_count": 4,
   "metadata": {},
   "outputs": [
    {
     "output_type": "stream",
     "name": "stdout",
     "text": [
      "True\nTrue\n"
     ]
    }
   ],
   "source": [
    " template_directory_path = Path('../dataset/templates/')\n",
    " output_directory_path = Path('../dataset/output/')\n",
    " crop_images_directory_path = Path('../dataset/crops/')\n",
    " visual_object_classes = [\n",
    "     'http://ai4bd.com/resource/cdm/juzo/numeric', 'http://ai4bd.com/resource/cdm/juzo/alpha']\n",
    " number_of_samples_per_template = 1\n",
    "\n",
    " print(path.exists('../dataset/templates/'))\n",
    " print(path.exists('../dataset/output/'))\n",
    "\n",
    " modify.create_synthetic_samples(template_directory_path, output_directory_path,\n",
    "                                    crop_images_directory_path, visual_object_classes,\n",
    "                                    number_of_samples_per_template)"
   ]
  }
 ],
 "metadata": {
  "kernelspec": {
   "display_name": "Python 3",
   "language": "python",
   "name": "python3"
  },
  "language_info": {
   "codemirror_mode": {
    "name": "ipython",
    "version": 3
   },
   "file_extension": ".py",
   "mimetype": "text/x-python",
   "name": "python",
   "nbconvert_exporter": "python",
   "pygments_lexer": "ipython3",
   "version": "3.7.9-final"
  }
 },
 "nbformat": 4,
 "nbformat_minor": 4
}